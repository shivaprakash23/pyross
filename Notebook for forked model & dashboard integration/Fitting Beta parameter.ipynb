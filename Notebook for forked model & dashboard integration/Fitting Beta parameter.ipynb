{
 "cells": [
  {
   "cell_type": "markdown",
   "metadata": {},
   "source": [
    "### Age-structured SIR and SEIR model for COVID-19 epidemic in India\n",
    "\n",
    "Fitting Beta, for a new data."
   ]
  },
  {
   "cell_type": "markdown",
   "metadata": {},
   "source": [
    "---"
   ]
  },
  {
   "cell_type": "markdown",
   "metadata": {},
   "source": [
    "* Beta for SIR model"
   ]
  },
  {
   "cell_type": "code",
   "execution_count": null,
   "metadata": {},
   "outputs": [],
   "source": [
    "%matplotlib inline\n",
    "import numpy as np\n",
    "import pyross\n",
    "import pandas as pd\n",
    "import matplotlib.pyplot as plt      # optional for notebook visualization.\n",
    "from scipy.io import loadmat         # for loading model's Matlab file.\n",
    "from scipy import optimize\n"
   ]
  },
  {
   "cell_type": "code",
   "execution_count": null,
   "metadata": {},
   "outputs": [],
   "source": [
    "M=16  # number of age groups\n",
    "\n",
    "# load age structure data\n",
    "my_data = np.genfromtxt('data/age_structures/India-2019.csv', delimiter=',', skip_header=1)\n",
    "aM, aF = my_data[:, 1], my_data[:, 2]\n",
    "\n",
    "# set age groups\n",
    "Ni=aM+aF;   Ni=Ni[0:M];  N=np.sum(Ni)"
   ]
  },
  {
   "cell_type": "code",
   "execution_count": null,
   "metadata": {},
   "outputs": [],
   "source": [
    "\n",
    "# contact matrices\n",
    "my_data = pd.read_excel('data/contact_matrices_152_countries/MUestimates_home_1.xlsx', sheet_name='India',index_col=None)\n",
    "CH = np.array(my_data)\n",
    "\n",
    "my_data = pd.read_excel('data/contact_matrices_152_countries/MUestimates_work_1.xlsx', sheet_name='India',index_col=None)\n",
    "CW = np.array(my_data)\n",
    "\n",
    "my_data = pd.read_excel('data/contact_matrices_152_countries/MUestimates_school_1.xlsx', sheet_name='India',index_col=None)\n",
    "CS = np.array(my_data)\n",
    "\n",
    "my_data = pd.read_excel('data/contact_matrices_152_countries/MUestimates_other_locations_1.xlsx', sheet_name='India',index_col=None)\n",
    "CO = np.array(my_data)\n",
    "\n",
    "my_data = pd.read_excel('data/contact_matrices_152_countries/MUestimates_all_locations_1.xlsx', sheet_name='India',index_col=None)\n",
    "CA = np.array(my_data)\n",
    "\n",
    "# matrix of total contacts\n",
    "C=CH+CW+CS+CO"
   ]
  },
  {
   "cell_type": "code",
   "execution_count": null,
   "metadata": {},
   "outputs": [],
   "source": [
    "def findBeta(x):\n",
    "    beta=x\n",
    "    gIa   = 1./7            # recovery rate of asymptomatic infectives \n",
    "    gIs   = 1./7            # recovery rate of symptomatic infectives \n",
    "    alpha = 0.               # fraction of asymptomatic infectives \n",
    "    fsa   = 1                # the self-isolation parameter   \n",
    "\n",
    "\n",
    "    # initial conditions    \n",
    "    Is_0 = np.zeros((M));  Is_0[6:13]=3;  Is_0[2:6]=1\n",
    "    Ia_0 = np.zeros((M))\n",
    "    R_0  = np.zeros((M))\n",
    "    S_0  = Ni - (Ia_0 + Is_0 + R_0)\n",
    "   \n",
    "    # Loading actual data, kindly update the data by subtracting recovered & no of deaths, so far.\n",
    "    my_data = np.genfromtxt('data/covid-cases/india.txt', delimiter='', skip_header=4)\n",
    "    day, cases = my_data[:,0], my_data[:,2]\n",
    "    \n",
    "    # duration of simulation and data file, \n",
    "    #'Tf' can be changed as per the SME's advice. It is the no. of days considered for finding Beta\n",
    "    Tf=21;  Nf=np.size(cases); filename='this.mat'\n",
    "\n",
    "    # the contact structure is independent of time \n",
    "    def contactMatrix(t):\n",
    "        return C\n",
    "\n",
    "    # intantiate model\n",
    "    parameters = {'alpha':alpha,'beta':beta, 'gIa':gIa,'gIs':gIs,'fsa':fsa}\n",
    "    model = pyross.models.SIR(parameters, M, Ni)\n",
    "\n",
    "    \n",
    "    # run model\n",
    "    model.simulate(S_0, Ia_0, Is_0, contactMatrix, Tf, Nf, filename)\n",
    "    \n",
    "    data=loadmat(filename); t = data['t'][0]; IC  = np.zeros((Nf))\n",
    "    for i in range(M):\n",
    "        IC += data['X'][:,2*M+i] \n",
    "    \n",
    "\n",
    "    error = np.sum(( cases-IC)**2)\n",
    "    return error\n",
    "\n"
   ]
  },
  {
   "cell_type": "code",
   "execution_count": null,
   "metadata": {},
   "outputs": [],
   "source": [
    "#solution\n",
    "beta0  = 0.0\n",
    "\n",
    "\n",
    "sol = optimize.root( findBeta, beta0)\n",
    "sol.x"
   ]
  },
  {
   "cell_type": "markdown",
   "metadata": {},
   "source": [
    "---"
   ]
  },
  {
   "cell_type": "markdown",
   "metadata": {},
   "source": [
    "* Beta for SEIR model"
   ]
  },
  {
   "cell_type": "code",
   "execution_count": null,
   "metadata": {},
   "outputs": [],
   "source": [
    "def findBetaSEIR(x):\n",
    "    beta=x\n",
    "    gIa   = 1./7            # recovery rate of asymptomatic infectives \n",
    "    gIs   = 1./7            # recovery rate of symptomatic infectives \n",
    "    alpha = 0.               # fraction of asymptomatic infectives \n",
    "    gE    = 1./4\n",
    "    fsa   = 1                # the self-isolation parameter   \n",
    "\n",
    "    # initial conditions    \n",
    "    Is_0 = np.zeros((M));  Is_0[6:13]=3;  Is_0[2:6]=1\n",
    "\n",
    "    E_0 = np.zeros((M))\n",
    "    Ia_0 = np.zeros((M))\n",
    "    R_0  = np.zeros((M))\n",
    "    S_0  = Ni - (Ia_0 + Is_0 + R_0)\n",
    "    \n",
    "    # Loading actual data, kindly update the data by subtracting recovered & no of deaths, so far.\n",
    "    my_data = np.genfromtxt('data/covid-cases/india.txt', delimiter='', skip_header=4)\n",
    "    day, cases = my_data[:,0], my_data[:,2]\n",
    "\n",
    "    # duration of simulation and data file, \n",
    "    #'Tf' can be changed as per the SME's advice. It is the no. of days considered for finding Beta\n",
    "    Tf=21;  Nf=np.size(cases); filename='this.mat'\n",
    "\n",
    "    # the contact structure is independent of time \n",
    "    def contactMatrix(t):\n",
    "        return C\n",
    "\n",
    "    # intantiate model\n",
    "    parameters = {'alpha':alpha,'beta':beta, 'gIa':gIa,'gIs':gIs,'gE':gE,'fsa':fsa}\n",
    "    model = pyross.models.SEIR(parameters, M, Ni)\n",
    "\n",
    "\n",
    "    # run model\n",
    "    model.simulate(S_0, E_0, Ia_0, Is_0, contactMatrix, Tf, Nf, filename)\n",
    "    \n",
    "    data=loadmat(filename); t = data['t'][0]; IC  = np.zeros((Nf))\n",
    "    for i in range(M):\n",
    "        IC += data['X'][:,3*M+i] \n",
    "    \n",
    "    error = np.sum(( cases-IC)**2)\n",
    "    return error"
   ]
  },
  {
   "cell_type": "code",
   "execution_count": null,
   "metadata": {},
   "outputs": [],
   "source": [
    "#solution\n",
    "beta0  = 0.0\n",
    "\n",
    "\n",
    "sol = optimize.root( findBetaSEIR, beta0)\n",
    "sol.x"
   ]
  },
  {
   "cell_type": "markdown",
   "metadata": {},
   "source": [
    "---"
   ]
  },
  {
   "cell_type": "code",
   "execution_count": null,
   "metadata": {},
   "outputs": [],
   "source": []
  }
 ],
 "metadata": {
  "kernelspec": {
   "display_name": "Python 3",
   "language": "python",
   "name": "python3"
  },
  "language_info": {
   "codemirror_mode": {
    "name": "ipython",
    "version": 3
   },
   "file_extension": ".py",
   "mimetype": "text/x-python",
   "name": "python",
   "nbconvert_exporter": "python",
   "pygments_lexer": "ipython3",
   "version": "3.6.10"
  }
 },
 "nbformat": 4,
 "nbformat_minor": 2
}
