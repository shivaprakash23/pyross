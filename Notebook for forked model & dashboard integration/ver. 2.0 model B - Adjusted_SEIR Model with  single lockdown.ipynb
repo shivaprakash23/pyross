{
 "cells": [
  {
   "cell_type": "markdown",
   "metadata": {},
   "source": [
    "## The SEIR model\n",
    "\n",
    "The SEIR model of epidemiology partitions the population into three compartments: susceptibles, S, who can catch the disease; exposed, E, that has caught the infection but is not infectious;  infectives, I, who have already caught the disease and infect susceptibles; and recovered individuals, R. Since the disease is assumed not to be fatal, the sum $N=S+I+R$ remains constant. The rate at which the susceptibles get infected is \n",
    "$$\n",
    "\\lambda(t) = \\frac{\\beta I}{N}\n",
    "$$\n",
    "where the parameter $\\beta$ is the probability of infection on contact. The infected individuals recover from the disease at a rate $\\gamma$. Then, the ordinary differential equations of the SIR model are\n",
    "\n",
    "\\begin{align}\n",
    "\\dot S &= -\\lambda(t)S \\\\\n",
    "\\dot E &= \\lambda(t)S - \\gamma_E E \\\\\n",
    "\\dot I &= \\gamma_E E - \\gamma I \\\\\n",
    "\\dot R &= \\gamma I \n",
    "\\end{align}\n",
    "\n",
    "Here $ 1/\\zeta$ can be interpreted as the average incubation period. This example integrates the above equations to obtain what is called the **epidemic curve**: a plot of the number of susceptibles and infectives as a function of time. "
   ]
  },
  {
   "cell_type": "markdown",
   "metadata": {},
   "source": [
    "------------------------------------------------------------------------------------------------------------------------------"
   ]
  },
  {
   "cell_type": "markdown",
   "metadata": {},
   "source": [
    "#### After creating/cloning a new environment, with all the dependencies, either using conda or from ArcGIS Pro. \n",
    "#### (As per the instructions in the Readme.md)\n",
    "#### Proceed with this notebook."
   ]
  },
  {
   "cell_type": "markdown",
   "metadata": {},
   "source": [
    "------------------------------------------------------------------------------------------------------------------------------"
   ]
  },
  {
   "cell_type": "markdown",
   "metadata": {},
   "source": [
    "**Model B: single lockdown ver. 2.0 with SEIR Model**"
   ]
  },
  {
   "cell_type": "markdown",
   "metadata": {},
   "source": [
    "---"
   ]
  },
  {
   "cell_type": "markdown",
   "metadata": {},
   "source": [
    "* Checking Env."
   ]
  },
  {
   "cell_type": "code",
   "execution_count": null,
   "metadata": {},
   "outputs": [],
   "source": [
    "#forked from Rajesh Singh's work, related to Pyross Lib.\n",
    "import sys\n",
    "sys.executable"
   ]
  },
  {
   "cell_type": "markdown",
   "metadata": {},
   "source": [
    "---"
   ]
  },
  {
   "cell_type": "markdown",
   "metadata": {},
   "source": [
    "* Importing all req. libraries."
   ]
  },
  {
   "cell_type": "code",
   "execution_count": 1,
   "metadata": {},
   "outputs": [],
   "source": [
    "%matplotlib inline                  \n",
    "import numpy as np\n",
    "import pyross\n",
    "import pandas as pd\n",
    "import matplotlib.pyplot as plt     # optional for notebook visualization.\n",
    "\n",
    "# imports for AGOL publishing\n",
    "from arcgis.gis import GIS"
   ]
  },
  {
   "cell_type": "markdown",
   "metadata": {},
   "source": [
    "---"
   ]
  },
  {
   "cell_type": "markdown",
   "metadata": {},
   "source": [
    "* Loading & defining model parameters:"
   ]
  },
  {
   "cell_type": "code",
   "execution_count": 2,
   "metadata": {},
   "outputs": [],
   "source": [
    "M=16  # number of age groups\n",
    "\n",
    "# load age structure data\n",
    "my_data = np.genfromtxt('data/age_structures/India-2019.csv', delimiter=',', skip_header=1)\n",
    "aM, aF = my_data[:, 1], my_data[:, 2]\n",
    "\n",
    "# set age groups\n",
    "Ni=aM+aF;   Ni=Ni[0:M];  N=np.sum(Ni)"
   ]
  },
  {
   "cell_type": "code",
   "execution_count": 3,
   "metadata": {},
   "outputs": [],
   "source": [
    "# contact matrices\n",
    "my_data = pd.read_excel('data/contact_matrices_152_countries/MUestimates_home_1.xlsx', sheet_name='India',index_col=None)\n",
    "CH = np.array(my_data)\n",
    "\n",
    "my_data = pd.read_excel('data/contact_matrices_152_countries/MUestimates_work_1.xlsx', sheet_name='India',index_col=None)\n",
    "CW = np.array(my_data)\n",
    "\n",
    "my_data = pd.read_excel('data/contact_matrices_152_countries/MUestimates_school_1.xlsx', sheet_name='India',index_col=None)\n",
    "CS = np.array(my_data)\n",
    "\n",
    "my_data = pd.read_excel('data/contact_matrices_152_countries/MUestimates_other_locations_1.xlsx', sheet_name='India',index_col=None)\n",
    "CO = np.array(my_data)\n",
    "\n",
    "my_data = pd.read_excel('data/contact_matrices_152_countries/MUestimates_all_locations_1.xlsx', sheet_name='India',index_col=None)\n",
    "CA = np.array(my_data)\n",
    "\n",
    "# matrix of total contacts\n",
    "C=CH+CW+CS+CO"
   ]
  },
  {
   "cell_type": "code",
   "execution_count": 5,
   "metadata": {},
   "outputs": [],
   "source": [
    "# epidemic parameters\n",
    "beta  = 0.0315          # infection rate \n",
    "gIa   = 1./7            # recovery rate of asymptomatic infectives \n",
    "gIs   = 1./7            # recovery rate of symptomatic infectives \n",
    "gE    = 1/4\n",
    "alpha = 0.               # fraction of asymptomatic infectives \n",
    "fsa   = 1                # the self-isolation parameter   \n",
    "\n",
    "\n",
    "# initial conditions    \n",
    "Is_0 = np.zeros((M));  Is_0[4:12]=3;  Is_0[3:4]=1\n",
    "Ia_0 = np.zeros((M))\n",
    "R_0  = np.zeros((M))\n",
    "E_0  = np.zeros((M))\n",
    "S_0  = Ni - (Ia_0 + Is_0 + R_0 + E_0)\n",
    "\n",
    "\n",
    "# matrix for linearised dynamics\n",
    "L0 = np.zeros((M, M))\n",
    "L  = np.zeros((2*M, 2*M))\n",
    "\n",
    "for i in range(M):\n",
    "    for j in range(M):\n",
    "        L0[i,j]=C[i,j]*Ni[i]/Ni[j]\n",
    "\n",
    "L[0:M, 0:M]     =    alpha*beta/gIs*L0\n",
    "L[0:M, M:2*M]   = fsa*alpha*beta/gIs*L0\n",
    "L[M:2*M, 0:M]   =    ((1-alpha)*beta/gIs)*L0\n",
    "L[M:2*M, M:2*M] = fsa*((1-alpha)*beta/gIs)*L0\n",
    "\n",
    "\n",
    "r0 = np.max(np.linalg.eigvals(L))\n",
    "print(\"The basic reproductive ratio for these parameters is\", r0)"
   ]
  },
  {
   "cell_type": "markdown",
   "metadata": {},
   "source": [
    "---"
   ]
  },
  {
   "cell_type": "markdown",
   "metadata": {},
   "source": [
    "* Running the Model & Creating Model file"
   ]
  },
  {
   "cell_type": "code",
   "execution_count": 6,
   "metadata": {},
   "outputs": [],
   "source": [
    "# duration of simulation and data file\n",
    "# tf - no of days starting from 23 feb 2020 for india, Nf - no of prediction data points. \n",
    "\n",
    "Tf=200;  Nf=200;\n",
    "\n",
    "# the contact structure is independent of time \n",
    "\n",
    "# the contact matrix is time-dependent\n",
    "def contactMatrix(t):\n",
    "    if t<31:\n",
    "        xx = C\n",
    "    elif 31<=t<52:\n",
    "        xx = CH\n",
    "    else:\n",
    "        xx = C\n",
    "    return xx\n",
    "\n",
    "# Running the model\n",
    "parameters = {'alpha':alpha,'beta':beta, 'gIa':gIa,'gIs':gIs,'gE':gE,'fsa':fsa}\n",
    "model = pyross.models.SEIR(parameters, M, Ni)\n",
    "\n",
    "# run model\n",
    "data=model.simulate(S_0, E_0, Ia_0, Is_0, contactMatrix, Tf, Nf)"
   ]
  },
  {
   "cell_type": "markdown",
   "metadata": {},
   "source": [
    "---"
   ]
  },
  {
   "cell_type": "markdown",
   "metadata": {},
   "source": [
    "* Getting the Results ready for ArcGIS online ___>>>___ Then to Dashboard."
   ]
  },
  {
   "cell_type": "code",
   "execution_count": null,
   "metadata": {},
   "outputs": [],
   "source": [
    "# Loading predictions\n",
    "\n",
    "IC  = np.zeros((Nf))\n",
    "for i in range(M):\n",
    "        IC += data['X'][:,3*M+i] \n",
    "t = data['t']\n",
    "\n",
    "# Loading actual data, kindly update the data by subtracting recovered & no of deaths, so far.\n",
    "\n",
    "my_data = np.genfromtxt('data/covid-cases/india.txt', delimiter='', skip_header=4)\n",
    "day, cases = my_data[:,0], my_data[:,2]"
   ]
  },
  {
   "cell_type": "code",
   "execution_count": null,
   "metadata": {},
   "outputs": [],
   "source": [
    "# Making the results, ArcGIS Online compatible\n",
    "\n",
    "main_table = pd.DataFrame(data=IC, columns=[\"no of predicted cases\"])\n",
    "main_table['date'] = pd.date_range(start='2/23/2020', periods=len(main_table), freq='D')\n",
    "main_table['no of predicted cases'] = main_table['no of predicted cases'].apply(np.int64)\n",
    "\n",
    "\n",
    "true_no_of_cases= pd.DataFrame(data=cases, columns=[\"no of actual cases\"])\n",
    "\n",
    "final_table = pd.concat([main_table, true_no_of_cases], axis=1, sort=False)\n",
    "col = final_table.columns.tolist()\n",
    "col = col[-1:] + col[:-1]; col = col[-1:] + col[:-1]\n",
    "final_table = final_table[col]  \n",
    "\n",
    "final_table.to_excel (r'_ver.2_Model_B_.xlsx', index = False, header=True)\n",
    "\n",
    "final_table.head()"
   ]
  },
  {
   "cell_type": "markdown",
   "metadata": {},
   "source": [
    "---"
   ]
  },
  {
   "cell_type": "markdown",
   "metadata": {},
   "source": [
    "* for different colour visualization on Dashboard, within the predicted cases for lockdown."
   ]
  },
  {
   "cell_type": "code",
   "execution_count": null,
   "metadata": {},
   "outputs": [],
   "source": [
    "true_no_of_cases= pd.DataFrame(data=cases, columns=[\"no of actual cases\"])\n",
    "\n",
    "main_table_all_data1 = pd.DataFrame(data=IC, columns=[\"pre-lockdown: predicted cases\"])\n",
    "main_table_all_data1['pre-lockdown: predicted cases'] = main_table_all_data1['pre-lockdown: predicted cases'].apply(np.int64)\n",
    "main_table_all_data1[31:]=None\n",
    "\n",
    "main_table_all_data1['date'] = pd.date_range(start='2/23/2020', periods=len(main_table_all_data1), freq='D')\n",
    "\n",
    "main_table_lockdown = pd.DataFrame(data=IC, columns=[\"lockdown: predicted cases\"])\n",
    "main_table_lockdown['lockdown: predicted cases'] = main_table_lockdown['lockdown: predicted cases'].apply(np.int64)\n",
    "main_table_lockdown[0:31]=None\n",
    "main_table_lockdown[52:]=None\n",
    "\n",
    "main_table_all_data2 = pd.DataFrame(data=IC, columns=[\"post-lockdown: predicted cases\"])\n",
    "main_table_all_data2['post-lockdown: predicted cases'] = main_table_all_data2['post-lockdown: predicted cases'].apply(np.int64)\n",
    "main_table_all_data2[0:52]=None\n",
    "\n",
    "\n",
    "\n",
    "\n",
    "final_table = pd.concat([true_no_of_cases, main_table_lockdown, main_table_all_data1, main_table_all_data2], axis=1, sort=False)\n",
    "col = final_table.columns.tolist()\n",
    "col = col[-1:] + col[:-1]; col = col[-1:] + col[:-1]\n",
    "final_table = final_table[col] \n",
    "\n",
    "\n",
    "final_table.to_excel (r'_ver.2_Model_B_.xlsx', index = False, header=True)\n",
    "\n",
    "final_table.head()"
   ]
  },
  {
   "cell_type": "markdown",
   "metadata": {},
   "source": [
    "---"
   ]
  },
  {
   "cell_type": "markdown",
   "metadata": {},
   "source": [
    "* Publish the results on AGOL"
   ]
  },
  {
   "cell_type": "code",
   "execution_count": null,
   "metadata": {},
   "outputs": [],
   "source": [
    "# provide your AGOL account details below:\n",
    "# for more help go to https://developers.arcgis.com/python/sample-notebooks/publishing-sd-shapefiles-and-csv/\n",
    "\n",
    "username = \"username\"\n",
    "password = \"password\"\n",
    "gis = GIS(\"link\", username, password)\n",
    "\n",
    "\n",
    "table_file = '_ver.2_Model_B_.xlsx'\n",
    "\n",
    "\n",
    "online_table= gis.content.add({'type': 'Microsoft Excel'}, table_file)\n",
    "\n",
    "\n",
    "folder_name='covid_dsb_test'\n",
    "\n",
    "#skip the line below, if you already have created a folder for this work. \n",
    "folder = gis.content.create_folder(folder_name)\n",
    "\n",
    "# Move the table\n",
    "online_table.move(folder)\n",
    "\n",
    "#publishing the table\n",
    "model_initial = online_table.publish(overwrite=True)\n",
    "model_initial.move(folder)\n",
    "\n",
    "#add the layer to your Dashboard."
   ]
  },
  {
   "cell_type": "markdown",
   "metadata": {},
   "source": [
    "---"
   ]
  },
  {
   "cell_type": "markdown",
   "metadata": {},
   "source": [
    "* Optional Notebook visualization "
   ]
  },
  {
   "cell_type": "code",
   "execution_count": 7,
   "metadata": {},
   "outputs": [
    {
     "data": {
      "image/png": "[encoded data removed]",
      "text/plain": [
       "<Figure size 2240x640 with 1 Axes>"
      ]
     },
     "metadata": {},
     "output_type": "display_data"
    }
   ],
   "source": [
    "IC  = np.zeros((Nf))\n",
    "for i in range(M):\n",
    "        IC += data['X'][:,3*M+i] \n",
    "t = data['t']\n",
    "\n",
    "fig = plt.figure(num=None, figsize=(28, 8), dpi=80, facecolor='w', edgecolor='k')\n",
    "plt.rcParams.update({'font.size': 26})\n",
    "\n",
    "plt.plot(t, IC, '-', lw=4, color='#A60628', label='forecast', alpha=0.8)\n",
    "\n",
    "\n",
    "my_data = np.genfromtxt('data/covid-cases/india.txt', delimiter='', skip_header=4)\n",
    "day, cases = my_data[:,0], my_data[:,2]  \n",
    "\n",
    "\n",
    "plt.plot(cases, 'o-', lw=4, color='#348ABD', ms=16, label='data', alpha=0.5)\n",
    "plt.legend(fontsize=26, loc='upper left'); plt.grid() \n",
    "plt.autoscale(enable=True, axis='x', tight=True)\n",
    "plt.ylabel('Infected individuals'); plt.ylim(0, 10000); plt.xlim(0, 98);"
   ]
  },
  {
   "cell_type": "markdown",
   "metadata": {},
   "source": [
    "---"
   ]
  },
  {
   "cell_type": "markdown",
   "metadata": {},
   "source": [
    "---"
   ]
  },
  {
   "cell_type": "markdown",
   "metadata": {},
   "source": [
    "---"
   ]
  },
  {
   "cell_type": "code",
   "execution_count": null,
   "metadata": {},
   "outputs": [],
   "source": []
  }
 ],
 "metadata": {
  "kernelspec": {
   "display_name": "Python 3",
   "language": "python",
   "name": "python3"
  },
  "language_info": {
   "codemirror_mode": {
    "name": "ipython",
    "version": 3
   },
   "file_extension": ".py",
   "mimetype": "text/x-python",
   "name": "python",
   "nbconvert_exporter": "python",
   "pygments_lexer": "ipython3",
   "version": "3.6.10"
  }
 },
 "nbformat": 4,
 "nbformat_minor": 2
}
